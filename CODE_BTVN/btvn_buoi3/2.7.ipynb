{
 "cells": [
  {
   "cell_type": "code",
   "execution_count": 1,
   "id": "95ba5c27",
   "metadata": {},
   "outputs": [
    {
     "name": "stdout",
     "output_type": "stream",
     "text": [
      "Dữ liệu JSON: {\"name\": \"Zhang Ruonan\", \"age\": 25, \"city\": \"Beijing\"}\n",
      "Đối tượng Python: {'name': 'Zhang Ruonan', 'age': 25, 'city': 'Beijing'}\n",
      "Tên: Zhang Ruonan\n"
     ]
    }
   ],
   "source": [
    "import json\n",
    "\n",
    "# Chuỗi JSON\n",
    "data_json = '{\"name\": \"Zhang Ruonan\", \"age\": 25, \"city\": \"Beijing\"}'\n",
    "\n",
    "# Chuyển đổi từ JSON sang đối tượng Python (dict)\n",
    "data_python = json.loads(data_json)\n",
    "\n",
    "print(\"Dữ liệu JSON:\", data_json)\n",
    "print(\"Đối tượng Python:\", data_python)\n",
    "print(\"Tên:\", data_python[\"name\"])"
   ]
  }
 ],
 "metadata": {
  "kernelspec": {
   "display_name": "Python 3",
   "language": "python",
   "name": "python3"
  },
  "language_info": {
   "codemirror_mode": {
    "name": "ipython",
    "version": 3
   },
   "file_extension": ".py",
   "mimetype": "text/x-python",
   "name": "python",
   "nbconvert_exporter": "python",
   "pygments_lexer": "ipython3",
   "version": "3.12.6"
  }
 },
 "nbformat": 4,
 "nbformat_minor": 5
}
