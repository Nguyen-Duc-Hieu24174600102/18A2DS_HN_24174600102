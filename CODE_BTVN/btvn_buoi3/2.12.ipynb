{
 "cells": [
  {
   "cell_type": "code",
   "execution_count": null,
   "id": "1a0231a4",
   "metadata": {},
   "outputs": [],
   "source": [
    "import requests\n",
    "\n",
    "url = \"https://jsonplaceholder.typicode.com/posts\"\n",
    "response = requests.get(url)\n",
    "posts = response.json()\n",
    "\n",
    "print(\"Tổng số bài post:\", len(posts))\n",
    "print(\"\\nDanh sách các bài post nổi bật:\")\n",
    "for p in posts[:5]:  # hiển thị 5 bài đầu\n",
    "    print(f\"userID: {p['userId']} | id: {p['id']}\")\n",
    "    print(f\"title: {p['title']}\")\n",
    "    print(f\"body: {p['body'][:60]}...\")\n",
    "    print(\"-\" * 50)"
   ]
  }
 ],
 "metadata": {
  "language_info": {
   "name": "python"
  }
 },
 "nbformat": 4,
 "nbformat_minor": 5
}
