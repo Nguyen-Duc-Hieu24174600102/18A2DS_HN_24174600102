{
 "cells": [
  {
   "cell_type": "code",
   "execution_count": 1,
   "id": "0da98b86",
   "metadata": {},
   "outputs": [
    {
     "name": "stdout",
     "output_type": "stream",
     "text": [
      "Tên công ty: Công ty TNHH Đất Việt\n",
      "Địa chỉ: abc Giải Phóng – Hà Nội\n",
      "----- Thống kê nhân viên theo đơn vị -----\n",
      "1. Tên đơn vị: A1\n",
      "   - Số nhân viên: 12\n",
      "   - Tỷ lệ: 24.00%\n",
      "2. Tên đơn vị: A2\n",
      "   - Số nhân viên: 8\n",
      "   - Tỷ lệ: 16.00%\n",
      "3. Tên đơn vị: A3\n",
      "   - Số nhân viên: 15\n",
      "   - Tỷ lệ: 30.00%\n",
      "4. Tên đơn vị: A4\n",
      "   - Số nhân viên: 5\n",
      "   - Tỷ lệ: 10.00%\n",
      "5. Tên đơn vị: A5\n",
      "   - Số nhân viên: 10\n",
      "   - Tỷ lệ: 20.00%\n"
     ]
    }
   ],
   "source": [
    "import json\n",
    "\n",
    "# Dữ liệu mẫu\n",
    "data = {\n",
    "    \"Tên công ty\": \"Công ty TNHH Đất Việt\",\n",
    "    \"Địa chỉ\": \"abc Giải Phóng – Hà Nội\",\n",
    "    \"Đơn vị\": {\n",
    "        \"A1\": 12,\n",
    "        \"A2\": 8,\n",
    "        \"A3\": 15,\n",
    "        \"A4\": 5,\n",
    "        \"A5\": 10\n",
    "    }\n",
    "}\n",
    "\n",
    "print(\"Tên công ty:\", data[\"Tên công ty\"])\n",
    "print(\"Địa chỉ:\", data[\"Địa chỉ\"])\n",
    "print(\"----- Thống kê nhân viên theo đơn vị -----\")\n",
    "\n",
    "tong = sum(data[\"Đơn vị\"].values())\n",
    "\n",
    "for i, (dv, sl) in enumerate(data[\"Đơn vị\"].items(), start=1):\n",
    "    tyle = sl / tong * 100\n",
    "    print(f\"{i}. Tên đơn vị: {dv}\")\n",
    "    print(f\"   - Số nhân viên: {sl}\")\n",
    "    print(f\"   - Tỷ lệ: {tyle:.2f}%\")"
   ]
  }
 ],
 "metadata": {
  "kernelspec": {
   "display_name": "Python 3",
   "language": "python",
   "name": "python3"
  },
  "language_info": {
   "codemirror_mode": {
    "name": "ipython",
    "version": 3
   },
   "file_extension": ".py",
   "mimetype": "text/x-python",
   "name": "python",
   "nbconvert_exporter": "python",
   "pygments_lexer": "ipython3",
   "version": "3.12.6"
  }
 },
 "nbformat": 4,
 "nbformat_minor": 5
}
