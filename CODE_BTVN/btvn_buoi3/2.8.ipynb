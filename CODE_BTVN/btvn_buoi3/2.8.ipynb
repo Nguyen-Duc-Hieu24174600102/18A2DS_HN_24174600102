{
 "cells": [
  {
   "cell_type": "code",
   "execution_count": null,
   "id": "c43f2a65",
   "metadata": {},
   "outputs": [],
   "source": [
    "import json\n",
    "\n",
    "# Đối tượng Python (dict)\n",
    "person = {\n",
    "    \"name\": \"Zhang Ruonan\",\n",
    "    \"age\": 25,\n",
    "    \"city\": \"Beijing\"\n",
    "}\n",
    "\n",
    "# Chuyển sang JSON\n",
    "json_data = json.dumps(person, ensure_ascii=False, indent=4)\n",
    "\n",
    "print(\"Đối tượng Python:\", person)\n",
    "print(\"Chuỗi JSON:\\n\", json_data)"
   ]
  }
 ],
 "metadata": {
  "language_info": {
   "name": "python"
  }
 },
 "nbformat": 4,
 "nbformat_minor": 5
}
