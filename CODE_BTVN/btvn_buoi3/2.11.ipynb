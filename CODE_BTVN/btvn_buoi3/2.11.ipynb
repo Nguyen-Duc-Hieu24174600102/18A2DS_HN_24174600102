{
 "cells": [
  {
   "cell_type": "code",
   "execution_count": null,
   "id": "427a2e41",
   "metadata": {},
   "outputs": [],
   "source": [
    "import json\n",
    "from datetime import datetime\n",
    "\n",
    "# Danh sách giao dịch\n",
    "transactions = []\n",
    "\n",
    "while True:\n",
    "    user = input(\"Nhập tên người giao dịch: \")\n",
    "    amount = float(input(\"Nhập số tiền: \"))\n",
    "    gold = float(input(\"Nhập số lượng vàng: \"))\n",
    "\n",
    "    transactions.append({\n",
    "        \"người\": user,\n",
    "        \"tiền\": amount,\n",
    "        \"vàng\": gold\n",
    "    })\n",
    "\n",
    "    cont = input(\"Nhập 1 để tiếp tục, 0 để dừng: \")\n",
    "    if cont == \"0\":\n",
    "        break\n",
    "\n",
    "# Ghi ra file\n",
    "now = datetime.now().strftime(\"%Y-%m-%d-%H-%M-%S\")\n",
    "filename = f\"giaodich-{now}.json\"\n",
    "\n",
    "with open(filename, \"w\", encoding=\"utf-8\") as f:\n",
    "    json.dump(transactions, f, ensure_ascii=False, indent=4)\n",
    "\n",
    "print(\"Đã lưu giao dịch vào:\", filename)"
   ]
  }
 ],
 "metadata": {
  "kernelspec": {
   "display_name": "Python 3",
   "language": "python",
   "name": "python3"
  },
  "language_info": {
   "codemirror_mode": {
    "name": "ipython",
    "version": 3
   },
   "file_extension": ".py",
   "mimetype": "text/x-python",
   "name": "python",
   "nbconvert_exporter": "python",
   "pygments_lexer": "ipython3",
   "version": "3.12.6"
  }
 },
 "nbformat": 4,
 "nbformat_minor": 5
}
