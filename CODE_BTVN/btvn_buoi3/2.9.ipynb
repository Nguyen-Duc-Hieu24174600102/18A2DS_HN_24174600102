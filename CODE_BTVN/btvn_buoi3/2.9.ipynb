{
 "cells": [
  {
   "cell_type": "code",
   "execution_count": null,
   "id": "170cfa6b",
   "metadata": {},
   "outputs": [],
   "source": [
    "import json\n",
    "\n",
    "# Danh sách các đối tượng Python\n",
    "employees = [\n",
    "    {\"name\": \"A\", \"age\": 22},\n",
    "    {\"name\": \"B\", \"age\": 30},\n",
    "    {\"name\": \"C\", \"age\": 27}\n",
    "]\n",
    "\n",
    "# Chuyển sang JSON\n",
    "json_str = json.dumps(employees, ensure_ascii=False, indent=4)\n",
    "print(\"Chuỗi JSON:\\n\", json_str)"
   ]
  }
 ],
 "metadata": {
  "language_info": {
   "name": "python"
  }
 },
 "nbformat": 4,
 "nbformat_minor": 5
}
