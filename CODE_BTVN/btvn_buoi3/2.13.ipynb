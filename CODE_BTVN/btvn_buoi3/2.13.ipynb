{
 "cells": [
  {
   "cell_type": "code",
   "execution_count": null,
   "id": "0160a8b4",
   "metadata": {},
   "outputs": [],
   "source": [
    "import requests\n",
    "\n",
    "url = \"https://jsonplaceholder.typicode.com/comments?postId=1\"\n",
    "response = requests.get(url)\n",
    "comments = response.json()\n",
    "\n",
    "print(\"Danh sách các comment (chỉ hiển thị 3 comment đầu):\\n\")\n",
    "for c in comments[:3]:\n",
    "    print(f\"Tên: {c['name']}\")\n",
    "    print(f\"Email: {c['email']}\")\n",
    "    print(f\"Nội dung: {c['body']}\\n\")"
   ]
  }
 ],
 "metadata": {
  "language_info": {
   "name": "python"
  }
 },
 "nbformat": 4,
 "nbformat_minor": 5
}
