{
 "cells": [
  {
   "cell_type": "code",
   "execution_count": 1,
   "id": "80feaf1b",
   "metadata": {},
   "outputs": [
    {
     "name": "stdout",
     "output_type": "stream",
     "text": [
      "✅ Đã tạo file company.xml thành công!\n"
     ]
    }
   ],
   "source": [
    "import xml.etree.ElementTree as ET\n",
    "\n",
    "# Tạo phần tử gốc\n",
    "company = ET.Element(\"company\")\n",
    "\n",
    "# Thêm các phần tử con\n",
    "ET.SubElement(company, \"name\").text = \"Công ty TNHH ABC\"\n",
    "ET.SubElement(company, \"director\").text = \"Nguyễn Văn A\"\n",
    "ET.SubElement(company, \"address\").text = \"123 Đường Lê Lợi, Hà Nội\"\n",
    "ET.SubElement(company, \"phone\").text = \"0123456789\"\n",
    "ET.SubElement(company, \"tax_code\").text = \"0102030405\"\n",
    "\n",
    "# Ghi ra file XML\n",
    "tree = ET.ElementTree(company)\n",
    "tree.write(\"company.xml\", encoding=\"utf-8\", xml_declaration=True)\n",
    "print(\"✅ Đã tạo file company.xml thành công!\")"
   ]
  }
 ],
 "metadata": {
  "kernelspec": {
   "display_name": "Python 3",
   "language": "python",
   "name": "python3"
  },
  "language_info": {
   "codemirror_mode": {
    "name": "ipython",
    "version": 3
   },
   "file_extension": ".py",
   "mimetype": "text/x-python",
   "name": "python",
   "nbconvert_exporter": "python",
   "pygments_lexer": "ipython3",
   "version": "3.12.6"
  }
 },
 "nbformat": 4,
 "nbformat_minor": 5
}
