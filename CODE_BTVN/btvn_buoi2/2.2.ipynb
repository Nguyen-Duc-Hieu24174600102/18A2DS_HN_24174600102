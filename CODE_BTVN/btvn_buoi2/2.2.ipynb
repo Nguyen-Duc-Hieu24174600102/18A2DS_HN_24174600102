{
 "cells": [
  {
   "cell_type": "code",
   "execution_count": 1,
   "id": "4bcfc3bf",
   "metadata": {},
   "outputs": [
    {
     "name": "stdout",
     "output_type": "stream",
     "text": [
      "✅ Đã tạo file students.xml thành công!\n"
     ]
    }
   ],
   "source": [
    "import xml.etree.ElementTree as ET\n",
    "\n",
    "root = ET.Element(\"students\")\n",
    "\n",
    "student1 = ET.SubElement(root, \"student\")\n",
    "ET.SubElement(student1, \"id\").text = \"24174600102\"\n",
    "ET.SubElement(student1, \"name\").text = \"Nguyễn Đức Hiếu\"\n",
    "ET.SubElement(student1, \"year\").text = \"2006\"\n",
    "ET.SubElement(student1, \"class\").text = \"DHKL18A2HN\"\n",
    "ET.SubElement(student1, \"gender\").text = \"Nam\"\n",
    "\n",
    "student2 = ET.SubElement(root, \"student\")\n",
    "ET.SubElement(student2, \"id\").text = \"SV002\"\n",
    "ET.SubElement(student2, \"name\").text = \"Nguyễn Thị Hoa\"\n",
    "ET.SubElement(student2, \"year\").text = \"2004\"\n",
    "ET.SubElement(student2, \"class\").text = \"DHTH15B\"\n",
    "ET.SubElement(student2, \"gender\").text = \"Nữ\"\n",
    "\n",
    "tree = ET.ElementTree(root)\n",
    "tree.write(\"students.xml\", encoding=\"utf-8\", xml_declaration=True)\n",
    "print(\"✅ Đã tạo file students.xml thành công!\")"
   ]
  }
 ],
 "metadata": {
  "kernelspec": {
   "display_name": "Python 3",
   "language": "python",
   "name": "python3"
  },
  "language_info": {
   "codemirror_mode": {
    "name": "ipython",
    "version": 3
   },
   "file_extension": ".py",
   "mimetype": "text/x-python",
   "name": "python",
   "nbconvert_exporter": "python",
   "pygments_lexer": "ipython3",
   "version": "3.12.6"
  }
 },
 "nbformat": 4,
 "nbformat_minor": 5
}
