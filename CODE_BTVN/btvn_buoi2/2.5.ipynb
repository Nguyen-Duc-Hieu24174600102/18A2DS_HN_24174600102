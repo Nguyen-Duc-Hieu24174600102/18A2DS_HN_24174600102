{
 "cells": [
  {
   "cell_type": "code",
   "execution_count": 1,
   "id": "ac0cf385",
   "metadata": {},
   "outputs": [
    {
     "name": "stdout",
     "output_type": "stream",
     "text": [
      "Danh sách nhân viên trong file sample.xml:\n",
      "- Amar Pandey: 8.5 LPA\n",
      "- Akbhar Khan: 6.5 LPA\n",
      "- Anthony Walter: 3.2 LPA\n"
     ]
    }
   ],
   "source": [
    "from xml.dom import minidom\n",
    "\n",
    "# Đọc file sample.xml\n",
    "doc = minidom.parse(\"sample.xml\")\n",
    "\n",
    "# Lấy tất cả phần tử <staff> trong file\n",
    "staffs = doc.getElementsByTagName(\"staff\")\n",
    "\n",
    "print(\"Danh sách nhân viên trong file sample.xml:\")\n",
    "\n",
    "# Duyệt từng nhân viên\n",
    "for staff in staffs:\n",
    "    # Lấy phần tử con <name> và <salary> của từng <staff>\n",
    "    name = staff.getElementsByTagName(\"name\")[0].firstChild.data\n",
    "    salary = staff.getElementsByTagName(\"salary\")[0].firstChild.data\n",
    "    print(f\"- {name}: {salary}\")"
   ]
  }
 ],
 "metadata": {
  "kernelspec": {
   "display_name": "Python 3",
   "language": "python",
   "name": "python3"
  },
  "language_info": {
   "codemirror_mode": {
    "name": "ipython",
    "version": 3
   },
   "file_extension": ".py",
   "mimetype": "text/x-python",
   "name": "python",
   "nbconvert_exporter": "python",
   "pygments_lexer": "ipython3",
   "version": "3.12.6"
  }
 },
 "nbformat": 4,
 "nbformat_minor": 5
}
