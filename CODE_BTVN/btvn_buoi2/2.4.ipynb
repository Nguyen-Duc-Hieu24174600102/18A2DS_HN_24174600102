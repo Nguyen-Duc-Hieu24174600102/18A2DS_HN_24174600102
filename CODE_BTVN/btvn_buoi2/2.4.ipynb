{
 "cells": [
  {
   "cell_type": "code",
   "execution_count": 1,
   "id": "809cc40b",
   "metadata": {},
   "outputs": [
    {
     "name": "stdout",
     "output_type": "stream",
     "text": [
      "Danh sách nhân viên:\n",
      "- GeeksForGeeks Company\n",
      "- Amar Pandey\n",
      "- Akbhar Khan\n",
      "- Anthony Walter\n"
     ]
    }
   ],
   "source": [
    "from xml.dom import minidom\n",
    "\n",
    "# Đọc file XML\n",
    "doc = minidom.parse(\"sample.xml\")\n",
    "\n",
    "# Lấy danh sách thẻ <name>\n",
    "names = doc.getElementsByTagName(\"name\")\n",
    "\n",
    "print(\"Danh sách nhân viên:\")\n",
    "for name in names:\n",
    "    print(\"-\", name.firstChild.data)"
   ]
  }
 ],
 "metadata": {
  "kernelspec": {
   "display_name": "Python 3",
   "language": "python",
   "name": "python3"
  },
  "language_info": {
   "codemirror_mode": {
    "name": "ipython",
    "version": 3
   },
   "file_extension": ".py",
   "mimetype": "text/x-python",
   "name": "python",
   "nbconvert_exporter": "python",
   "pygments_lexer": "ipython3",
   "version": "3.12.6"
  }
 },
 "nbformat": 4,
 "nbformat_minor": 5
}
