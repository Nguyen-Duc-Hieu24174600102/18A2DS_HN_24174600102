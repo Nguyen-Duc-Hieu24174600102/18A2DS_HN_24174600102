{
 "cells": [
  {
   "cell_type": "code",
   "execution_count": 1,
   "id": "817bd9e0",
   "metadata": {},
   "outputs": [
    {
     "name": "stdout",
     "output_type": "stream",
     "text": [
      "Cột đầu tiên của mảng arr là:  [1 4 7]\n",
      "Hàng đầu tiên của mảng arr là: [1 2 3]\n",
      "Hàng đầu tiên của mảng arr là: [1 2 3]\n"
     ]
    }
   ],
   "source": [
    "import numpy as np\n",
    "arr=np.array([[1, 2, 3],[4, 5, 6],[7, 8, 9]]) \n",
    "arr \n",
    "print(\"Cột đầu tiên của mảng arr là: \",arr[:,0])    \n",
    "print(\"Hàng đầu tiên của mảng arr là:\",arr[0,:]) \n",
    "print(\"Hàng đầu tiên của mảng arr là:\",arr[0]) "
   ]
  }
 ],
 "metadata": {
  "kernelspec": {
   "display_name": "Python 3",
   "language": "python",
   "name": "python3"
  },
  "language_info": {
   "codemirror_mode": {
    "name": "ipython",
    "version": 3
   },
   "file_extension": ".py",
   "mimetype": "text/x-python",
   "name": "python",
   "nbconvert_exporter": "python",
   "pygments_lexer": "ipython3",
   "version": "3.12.6"
  }
 },
 "nbformat": 4,
 "nbformat_minor": 5
}
