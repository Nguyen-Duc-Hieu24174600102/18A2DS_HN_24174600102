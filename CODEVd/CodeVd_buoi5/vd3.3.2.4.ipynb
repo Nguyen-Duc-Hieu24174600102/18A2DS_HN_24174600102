{
 "cells": [
  {
   "cell_type": "code",
   "execution_count": 1,
   "id": "0191ad96",
   "metadata": {},
   "outputs": [
    {
     "data": {
      "text/plain": [
       "array([[2, 1, 0, 9],\n",
       "       [8, 7, 6, 5],\n",
       "       [4, 3, 2, 1]])"
      ]
     },
     "execution_count": 1,
     "metadata": {},
     "output_type": "execute_result"
    }
   ],
   "source": [
    "import numpy as np\n",
    "B=np.array([[1,2,3,4],[5,6,7,8],[9,0,1,2]])\n",
    "B\n",
    "B[:2,:3] # Hai dòng, ba cột\n",
    "B[:3,::2] #Lấy các hàng từ bắt đầu từ 0 đến hàng 3 (không bao gồm hàng này)\n",
    "#Lấy các cột với bước nhảy là 2 bắt đầu từ cột 0\n",
    "B[ ::-1, ::-1] #Lấy các hàng từ hàng cuối lên bước nhảy là -1\n",
    "#Lấy các cột từ bên phải sang, bước nhảy là -1\n"
   ]
  }
 ],
 "metadata": {
  "kernelspec": {
   "display_name": "Python 3",
   "language": "python",
   "name": "python3"
  },
  "language_info": {
   "codemirror_mode": {
    "name": "ipython",
    "version": 3
   },
   "file_extension": ".py",
   "mimetype": "text/x-python",
   "name": "python",
   "nbconvert_exporter": "python",
   "pygments_lexer": "ipython3",
   "version": "3.12.6"
  }
 },
 "nbformat": 4,
 "nbformat_minor": 5
}
