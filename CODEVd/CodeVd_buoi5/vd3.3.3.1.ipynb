{
 "cells": [
  {
   "cell_type": "code",
   "execution_count": 1,
   "id": "7a549b64",
   "metadata": {},
   "outputs": [
    {
     "name": "stdout",
     "output_type": "stream",
     "text": [
      "[[1 2]\n",
      " [4 5]]\n",
      "[[100   2]\n",
      " [  4   5]]\n",
      "Mảng gốc sau khi thay đổi giá trị trong view:\n",
      "[[100   2   3]\n",
      " [  4   5   6]\n",
      " [  7   8   9]]\n"
     ]
    }
   ],
   "source": [
    "import numpy as np \n",
    " \n",
    "# Tạo mảng 2 chiều 3x3 \n",
    "arr_2d = np.array([[1, 2, 3], \n",
    "                   [4, 5, 6], \n",
    "                   [7, 8, 9]]) \n",
    " \n",
    "# Lấy view mới chỉ chứa 2 dòng và 2 cột của mảng gốc \n",
    "arr_view = arr_2d[:2, :2].view() \n",
    "print(arr_view)   #in mảng con arr_con vừa được slicing từ hàm view \n",
    "# Thay đổi giá trị trong view \n",
    "arr_view[0, 0] = 100 #Chỉnh sửa phần tử ở dòng 0, cột 0 thành 10. \n",
    "print(arr_view)  \n",
    "print(\"Mảng gốc sau khi thay đổi giá trị trong view:\") \n",
    "print(arr_2d)"
   ]
  }
 ],
 "metadata": {
  "kernelspec": {
   "display_name": "Python 3",
   "language": "python",
   "name": "python3"
  },
  "language_info": {
   "codemirror_mode": {
    "name": "ipython",
    "version": 3
   },
   "file_extension": ".py",
   "mimetype": "text/x-python",
   "name": "python",
   "nbconvert_exporter": "python",
   "pygments_lexer": "ipython3",
   "version": "3.12.6"
  }
 },
 "nbformat": 4,
 "nbformat_minor": 5
}
