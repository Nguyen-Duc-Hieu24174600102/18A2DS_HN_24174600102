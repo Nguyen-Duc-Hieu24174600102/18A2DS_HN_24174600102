{
 "cells": [
  {
   "cell_type": "code",
   "execution_count": 6,
   "id": "d4787df5",
   "metadata": {},
   "outputs": [
    {
     "name": "stdout",
     "output_type": "stream",
     "text": [
      "Kích thước của đối tượng List (chưa tính phần tử) tính theo bytes: 8056\n",
      "Kích thước mỗi phần tử trong List tính theo bytes: 28\n",
      "Kích thước của toàn bộ List (bao gồm phần tử) tính theo bytes: 36056\n",
      "Kích thước mỗi phần tử của mảng NumPy theo bytes: 8\n",
      "Kích thước của toàn bộ mảng NumPy array tính theo bytes: 8000\n",
      "Tỷ lệ (List/NumPy Array): 4.51\n"
     ]
    }
   ],
   "source": [
    "import numpy as np   # Thư viện để tạo và thao tác với mảng NumPy\n",
    "import sys           # Thư viện sys để đo kích thước đối tượng Python bằng sys.getsizeof()\n",
    "\n",
    "# Tạo một danh sách Python với 1000 phần tử\n",
    "S = list(range(1000))\n",
    "\n",
    "# Đo kích thước của toàn bộ danh sách S (bao gồm phần overhead)\n",
    "list_size = sys.getsizeof(S)\n",
    "print(\"Kích thước của đối tượng List (chưa tính phần tử) tính theo bytes:\", list_size)\n",
    "\n",
    "# Đo kích thước trung bình của mỗi phần tử trong list\n",
    "item_size = sys.getsizeof(S[0])\n",
    "print(\"Kích thước mỗi phần tử trong List tính theo bytes:\", item_size)\n",
    "\n",
    "# Tính tổng kích thước thực tế của list (bao gồm cả các phần tử)\n",
    "total_list_size = list_size + len(S) * item_size\n",
    "print(\"Kích thước của toàn bộ List (bao gồm phần tử) tính theo bytes:\", total_list_size)\n",
    "\n",
    "# Tạo một mảng NumPy với 1000 phần tử\n",
    "D = np.arange(1000)\n",
    "\n",
    "# Đo kích thước của mỗi phần tử trong NumPy array\n",
    "print(\"Kích thước mỗi phần tử của mảng NumPy theo bytes:\", D.itemsize)\n",
    "\n",
    "# Đo kích thước của toàn bộ NumPy array\n",
    "array_size = D.nbytes  # hoặc D.itemsize * D.size\n",
    "print(\"Kích thước của toàn bộ mảng NumPy array tính theo bytes:\", array_size)\n",
    "\n",
    "# So sánh tỷ lệ kích thước\n",
    "print(f\"Tỷ lệ (List/NumPy Array): {total_list_size / array_size:.2f}\")\n"
   ]
  },
  {
   "cell_type": "code",
   "execution_count": 1,
   "id": "30901317",
   "metadata": {},
   "outputs": [],
   "source": [
    "import numpy as np\n",
    "\n"
   ]
  },
  {
   "cell_type": "code",
   "execution_count": null,
   "id": "48d784af",
   "metadata": {},
   "outputs": [],
   "source": []
  }
 ],
 "metadata": {
  "kernelspec": {
   "display_name": "Python 3",
   "language": "python",
   "name": "python3"
  },
  "language_info": {
   "codemirror_mode": {
    "name": "ipython",
    "version": 3
   },
   "file_extension": ".py",
   "mimetype": "text/x-python",
   "name": "python",
   "nbconvert_exporter": "python",
   "pygments_lexer": "ipython3",
   "version": "3.12.6"
  }
 },
 "nbformat": 4,
 "nbformat_minor": 5
}
