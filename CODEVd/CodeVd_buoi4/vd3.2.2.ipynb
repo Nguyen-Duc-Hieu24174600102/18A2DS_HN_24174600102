{
 "cells": [
  {
   "cell_type": "code",
   "execution_count": 1,
   "id": "e5770c7e",
   "metadata": {},
   "outputs": [
    {
     "data": {
      "text/plain": [
       "dtype('bool')"
      ]
     },
     "execution_count": 1,
     "metadata": {},
     "output_type": "execute_result"
    }
   ],
   "source": [
    "import numpy as np\n",
    "#Kiểu dữ liệu nguyên:\n",
    "arr_int=np.array([1,2,3,4],dtype=np.int32)\n",
    "arr_int.dtype\n",
    "arr_float = np.array([1.1, 2.2, 3.3], dtype=np.float64)\n",
    "arr_float.dtype # Output: float64\n",
    "#Kiểu dữ liệu chuỗi (string):\n",
    "arr_string = np.array(['apple', 'banana', 'orange'],\n",
    "dtype=np.str_)\n",
    "arr_string.dtype # Output: <U6\n",
    "#Kiểu dữ liệu logic (boolean):\n",
    "arr_bool = np.array([True, False, True], dtype=np.bool_)\n",
    "arr_bool.dtype # Output: bool\n"
   ]
  }
 ],
 "metadata": {
  "kernelspec": {
   "display_name": "Python 3",
   "language": "python",
   "name": "python3"
  },
  "language_info": {
   "codemirror_mode": {
    "name": "ipython",
    "version": 3
   },
   "file_extension": ".py",
   "mimetype": "text/x-python",
   "name": "python",
   "nbconvert_exporter": "python",
   "pygments_lexer": "ipython3",
   "version": "3.12.6"
  }
 },
 "nbformat": 4,
 "nbformat_minor": 5
}
