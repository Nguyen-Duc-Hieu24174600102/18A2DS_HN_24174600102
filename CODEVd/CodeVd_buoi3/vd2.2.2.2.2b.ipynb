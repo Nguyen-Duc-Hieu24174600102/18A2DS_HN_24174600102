{
 "cells": [
  {
   "cell_type": "code",
   "execution_count": 1,
   "id": "76fe274f",
   "metadata": {},
   "outputs": [
    {
     "name": "stdout",
     "output_type": "stream",
     "text": [
      "✅ Dữ liệu đã được ghi thành công vào tệp 'thongtin.json'.\n",
      "\n",
      "📄 Nội dung tệp 'thongtin.json':\n",
      "\n",
      "{\n",
      "    \"Ho_va_ten\": \"Nguyễn Văn A\",\n",
      "    \"Nam_sinh\": 2025,\n",
      "    \"Gioi_tinh\": \"Nam\",\n",
      "    \"So_dt\": \"0123456789\",\n",
      "    \"Email\": \"nguyenvana@uneti.edu.vn\"\n",
      "}\n"
     ]
    }
   ],
   "source": [
    "import json\n",
    "\n",
    "# Đối tượng Python (đối tượng dict)\n",
    "data = {\n",
    "    \"Ho_va_ten\": \"Nguyễn Văn A\",\n",
    "    \"Nam_sinh\": 2025,\n",
    "    \"Gioi_tinh\": \"Nam\",\n",
    "    \"So_dt\": \"0123456789\",\n",
    "    \"Email\": \"nguyenvana@uneti.edu.vn\"\n",
    "}\n",
    "\n",
    "# Sử dụng 'with open' để mở tệp 'thongtin.json' với chế độ ghi ('w')\n",
    "# Hàm json.dump() sẽ ghi dữ liệu JSON trực tiếp vào tệp đã mở\n",
    "with open(\"thongtin.json\", \"w\", encoding=\"utf-8\") as f:\n",
    "    json.dump(data, f, ensure_ascii=False, indent=4)\n",
    "    print(\"✅ Dữ liệu đã được ghi thành công vào tệp 'thongtin.json'.\")\n",
    "\n",
    "# Đọc (xem) lại nội dung file để kiểm tra\n",
    "with open(\"thongtin.json\", \"r\", encoding=\"utf-8\") as f:\n",
    "    print(\"\\n📄 Nội dung tệp 'thongtin.json':\\n\")\n",
    "    print(f.read())\n"
   ]
  }
 ],
 "metadata": {
  "kernelspec": {
   "display_name": "Python 3",
   "language": "python",
   "name": "python3"
  },
  "language_info": {
   "codemirror_mode": {
    "name": "ipython",
    "version": 3
   },
   "file_extension": ".py",
   "mimetype": "text/x-python",
   "name": "python",
   "nbconvert_exporter": "python",
   "pygments_lexer": "ipython3",
   "version": "3.12.6"
  }
 },
 "nbformat": 4,
 "nbformat_minor": 5
}
