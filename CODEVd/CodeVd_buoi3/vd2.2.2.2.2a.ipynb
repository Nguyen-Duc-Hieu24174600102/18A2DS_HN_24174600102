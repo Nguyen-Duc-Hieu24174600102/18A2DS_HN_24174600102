{
 "cells": [
  {
   "cell_type": "code",
   "execution_count": 1,
   "id": "29aea83d",
   "metadata": {},
   "outputs": [
    {
     "name": "stdout",
     "output_type": "stream",
     "text": [
      "{'name': 'Alice', 'age': '25', 'balance': Decimal('1000.5'), 'status': 'NaN'}\n"
     ]
    }
   ],
   "source": [
    "import json\n",
    "from decimal import Decimal  # Cung cấp lớp Decimal để hỗ trợ phép tính số học thập phân độ chính xác cao\n",
    "\n",
    "# Chuỗi JSON\n",
    "json_string = '{\"name\": \"Alice\", \"age\": 25, \"balance\": 1000.5, \"status\": \"NaN\"}'\n",
    "\n",
    "# Giải mã chuỗi JSON thành đối tượng Python với các quy tắc chuyển đổi tùy chỉnh\n",
    "data = json.loads(\n",
    "    json_string,\n",
    "    parse_float=Decimal,              # Chuyển đổi giá trị float thành Decimal\n",
    "    parse_int=str,                    # Chuyển đổi giá trị int thành chuỗi (str)\n",
    "    parse_constant=lambda x: None     # Chuyển các giá trị đặc biệt (NaN, Infinity) thành None\n",
    ")\n",
    "\n",
    "print(data)\n"
   ]
  }
 ],
 "metadata": {
  "kernelspec": {
   "display_name": "Python 3",
   "language": "python",
   "name": "python3"
  },
  "language_info": {
   "codemirror_mode": {
    "name": "ipython",
    "version": 3
   },
   "file_extension": ".py",
   "mimetype": "text/x-python",
   "name": "python",
   "nbconvert_exporter": "python",
   "pygments_lexer": "ipython3",
   "version": "3.12.6"
  }
 },
 "nbformat": 4,
 "nbformat_minor": 5
}
