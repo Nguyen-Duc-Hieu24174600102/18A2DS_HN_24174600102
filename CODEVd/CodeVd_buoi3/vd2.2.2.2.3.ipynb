{
 "cells": [
  {
   "cell_type": "code",
   "execution_count": 1,
   "id": "e5d0d7c5",
   "metadata": {},
   "outputs": [
    {
     "name": "stdout",
     "output_type": "stream",
     "text": [
      "{'Ho_va_ten': 'Nguyá»…n VÄƒn A', 'Nam_sinh': 2025, 'Gioi_tinh': 'Nam', 'So_dt': '0123456789', 'Email': 'nguyenvana@uneti.edu.vn'}\n",
      "<class 'dict'>\n"
     ]
    }
   ],
   "source": [
    "import json\n",
    "\n",
    "with open(\"thongtin.json\") as f:\n",
    "    # Mở file thongtin.json để đọc dữ liệu\n",
    "    infor = json.load(f)\n",
    "    # Hàm json.load() đọc dữ liệu từ tệp và chuyển đổi nó thành đối tượng Python, \n",
    "    # biến infor là đối tượng Python kiểu dict\n",
    "    print(infor)\n",
    "    print(type(infor))"
   ]
  }
 ],
 "metadata": {
  "kernelspec": {
   "display_name": "Python 3",
   "language": "python",
   "name": "python3"
  },
  "language_info": {
   "codemirror_mode": {
    "name": "ipython",
    "version": 3
   },
   "file_extension": ".py",
   "mimetype": "text/x-python",
   "name": "python",
   "nbconvert_exporter": "python",
   "pygments_lexer": "ipython3",
   "version": "3.12.6"
  }
 },
 "nbformat": 4,
 "nbformat_minor": 5
}
