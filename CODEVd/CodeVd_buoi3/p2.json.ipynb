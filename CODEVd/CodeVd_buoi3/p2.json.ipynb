{
 "cells": [
  {
   "cell_type": "code",
   "execution_count": 1,
   "id": "37aec52a",
   "metadata": {},
   "outputs": [
    {
     "name": "stdout",
     "output_type": "stream",
     "text": [
      "<class 'dict'>\n",
      "{\"name\": \"A\", \"age\": 35, \"company\": \"Đất Việt\"}\n",
      "<class 'str'>\n"
     ]
    }
   ],
   "source": [
    "import json\n",
    "\n",
    "# Đối tượng Python cần chuyển đổi\n",
    "data = {\n",
    "    \"name\": \"A\",\n",
    "    \"age\": 35,\n",
    "    \"company\": \"Đất Việt\"\n",
    "}\n",
    "\n",
    "print(type(data))  # data là đối tượng Python kiểu dict\n",
    "\n",
    "# Chuyển đối tượng Python thành chuỗi JSON\n",
    "json_string = json.dumps(data, ensure_ascii=False)  # hàm dumps() chuyển đối tượng Python thành chuỗi JSON\n",
    "\n",
    "print(json_string)          # In chuỗi JSON\n",
    "print(type(json_string))    # json_string là chuỗi JSON kiểu str (không phải dict nữa)"
   ]
  }
 ],
 "metadata": {
  "kernelspec": {
   "display_name": "Python 3",
   "language": "python",
   "name": "python3"
  },
  "language_info": {
   "codemirror_mode": {
    "name": "ipython",
    "version": 3
   },
   "file_extension": ".py",
   "mimetype": "text/x-python",
   "name": "python",
   "nbconvert_exporter": "python",
   "pygments_lexer": "ipython3",
   "version": "3.12.6"
  }
 },
 "nbformat": 4,
 "nbformat_minor": 5
}
