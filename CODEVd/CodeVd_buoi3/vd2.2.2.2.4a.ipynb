{
 "cells": [
  {
   "cell_type": "code",
   "execution_count": 2,
   "id": "5b322e4f",
   "metadata": {},
   "outputs": [
    {
     "name": "stdout",
     "output_type": "stream",
     "text": [
      "{\n",
      "  \"__type__\": \"CustomObject\",\n",
      "  \"name\": \"C1\",\n",
      "  \"value\": 42\n",
      "}\n"
     ]
    }
   ],
   "source": [
    "import json\n",
    "\n",
    "# Định nghĩa lớp CustomObject với hai thuộc tính name và value\n",
    "# (Các đối tượng kiểu này không thể tự mã hóa JSON nếu không xử lý thêm)\n",
    "class CustomObject:\n",
    "    def __init__(self, name, value):\n",
    "        self.name = name\n",
    "        self.value = value\n",
    "\n",
    "    def to_dict(self):\n",
    "        # Trả về biểu diễn dạng dict để tiện mã hóa JSON\n",
    "        return {\"__type__\": \"CustomObject\", \"name\": self.name, \"value\": self.value}\n",
    "\n",
    "\n",
    "# Định nghĩa lớp CustomObjectEncoder kế thừa từ json.JSONEncoder\n",
    "# để tùy chỉnh cách mã hóa đối tượng\n",
    "class CustomObjectEncoder(json.JSONEncoder):\n",
    "    def default(self, obj):\n",
    "        # Nếu obj là một thể hiện của CustomObject, trả về dạng dict\n",
    "        if isinstance(obj, CustomObject):\n",
    "            return obj.to_dict()\n",
    "        # Ngược lại, gọi phương thức default() gốc\n",
    "        return super().default(obj)\n",
    "\n",
    "\n",
    "# --- Phần chương trình chính ---\n",
    "if __name__ == \"__main__\":\n",
    "    # Tạo đối tượng CustomObject\n",
    "    data = CustomObject(\"C1\", 42)\n",
    "\n",
    "    # Sử dụng lớp mã hóa tùy chỉnh khi chuyển sang JSON\n",
    "    data_st = json.dumps(data, cls=CustomObjectEncoder, ensure_ascii=False, indent=2)\n",
    "\n",
    "    # In kết quả\n",
    "    print(data_st)\n"
   ]
  },
  {
   "cell_type": "code",
   "execution_count": 1,
   "id": "3c8b2119",
   "metadata": {},
   "outputs": [
    {
     "name": "stdout",
     "output_type": "stream",
     "text": [
      "{\"custom_data\": {\"key\": \"value\"}}\n"
     ]
    }
   ],
   "source": [
    "import json\n",
    "# Định nghĩa một lớp đối tượng tùy chỉnh\n",
    "class CustomObject:\n",
    "    def __init__(self, data):\n",
    "        self.data = data\n",
    "    def to_dict(self):\n",
    "        return {\"custom_data\": self.data}\n",
    "# Tạo một lớp JSONEncoder tùy chỉnh để xử lý đối tượng CustomObject\n",
    "class CustomObjectEncoder(json.JSONEncoder):\n",
    "    def default(self, obj):\n",
    "        if isinstance(obj, CustomObject):\n",
    "            return obj.to_dict()\n",
    "            None\n",
    "        return super().default(obj)\n",
    "#Chuyển thành đối tượng có thể mã hóa JSON.\n",
    "# Bỏ qua việc mã hóa đối tượng này\n",
    "# Tạo một đối tượng CustomObject\n",
    "custom_obj = CustomObject({'key': 'value'})\n",
    "# Sử dụng JSONEncoder tùy chỉnh để mã hóa đối tượng CustomObject\n",
    "json_data = json.dumps(custom_obj, cls=CustomObjectEncoder)\n",
    "print(json_data)"
   ]
  }
 ],
 "metadata": {
  "kernelspec": {
   "display_name": "Python 3",
   "language": "python",
   "name": "python3"
  },
  "language_info": {
   "codemirror_mode": {
    "name": "ipython",
    "version": 3
   },
   "file_extension": ".py",
   "mimetype": "text/x-python",
   "name": "python",
   "nbconvert_exporter": "python",
   "pygments_lexer": "ipython3",
   "version": "3.12.6"
  }
 },
 "nbformat": 4,
 "nbformat_minor": 5
}
