{
 "cells": [
  {
   "cell_type": "code",
   "execution_count": 3,
   "id": "8c9ac6e2",
   "metadata": {},
   "outputs": [
    {
     "name": "stdout",
     "output_type": "stream",
     "text": [
      "<class 'dict'>\n",
      "{\"name\": \"A\", \"age\": 35, \"company\": \"Đất Việt\"}\n",
      "<class 'str'>\n"
     ]
    }
   ],
   "source": [
    "import json\n",
    "\n",
    "# Đối tượng Python cần chuyển đổi\n",
    "data = {\n",
    "    \"name\": \"A\",\n",
    "    \"age\": 35,\n",
    "    \"company\": \"Đất Việt\"\n",
    "}\n",
    "\n",
    "print(type(data))  # data là đối tượng Python kiểu dict\n",
    "\n",
    "# Chuyển đối tượng Python thành chuỗi JSON\n",
    "json_string = json.dumps(data, ensure_ascii=False)  # hàm dumps() chuyển đối tượng Python thành chuỗi JSON\n",
    "\n",
    "print(json_string)          # In chuỗi JSON\n",
    "print(type(json_string))    # json_string là chuỗi JSON kiểu str (không phải dict nữa)"
   ]
  },
  {
   "cell_type": "code",
   "execution_count": 2,
   "id": "b50f8447",
   "metadata": {},
   "outputs": [
    {
     "name": "stdout",
     "output_type": "stream",
     "text": [
      "[\"z\", [2.0, -3.0]]\n"
     ]
    }
   ],
   "source": [
    "import json\n",
    "\n",
    "# Hàm xử lý số phức khi mã hóa sang JSON\n",
    "def complex_handler(obj):\n",
    "    if isinstance(obj, complex):\n",
    "        return [obj.real, obj.imag]   # Trả về danh sách gồm phần thực và phần ảo\n",
    "    raise TypeError(f\"{repr(obj)} - không thể mã hóa JSON\")  # Nếu không phải số phức thì báo lỗi\n",
    "\n",
    "# Dữ liệu gồm số phức\n",
    "data = [\"z\", 2 - 3j]\n",
    "\n",
    "# Mã hóa JSON có sử dụng hàm xử lý tùy chỉnh complex_handler\n",
    "complex_obj = json.dumps(data, default=complex_handler)\n",
    "print(complex_obj)\n",
    "\n"
   ]
  }
 ],
 "metadata": {
  "kernelspec": {
   "display_name": "Python 3",
   "language": "python",
   "name": "python3"
  },
  "language_info": {
   "codemirror_mode": {
    "name": "ipython",
    "version": 3
   },
   "file_extension": ".py",
   "mimetype": "text/x-python",
   "name": "python",
   "nbconvert_exporter": "python",
   "pygments_lexer": "ipython3",
   "version": "3.12.6"
  }
 },
 "nbformat": 4,
 "nbformat_minor": 5
}
