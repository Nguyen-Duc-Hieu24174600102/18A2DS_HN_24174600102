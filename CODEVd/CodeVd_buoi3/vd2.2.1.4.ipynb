{
 "cells": [
  {
   "cell_type": "code",
   "execution_count": 1,
   "id": "12cd23f1",
   "metadata": {},
   "outputs": [
    {
     "name": "stdout",
     "output_type": "stream",
     "text": [
      "[5.0, 3.0]\n"
     ]
    }
   ],
   "source": [
    "import json\n",
    "\n",
    "# Viết một hàm để kiểm tra xem một đối tượng có phải là số phức hay không\n",
    "def complex_encode(object):\n",
    "    # Kiểm tra bằng isinstance\n",
    "    if isinstance(object, complex):\n",
    "        # Trả về danh sách [phần thực, phần ảo]\n",
    "        return [object.real, object.imag]\n",
    "    # Kích hoạt lỗi nếu object không phải là số phức\n",
    "    raise TypeError(repr(object) + \" is not JSON serialized\")\n",
    "\n",
    "# Đối tượng cần mã hóa\n",
    "data = 5 + 3j  # Data là đối tượng số phức\n",
    "\n",
    "# Sử dụng hàm json.dumps() để mã hóa số phức 5 + 3j thành chuỗi JSON\n",
    "complex_obj = json.dumps(data, default=complex_encode)\n",
    "\n",
    "print(complex_obj)\n"
   ]
  }
 ],
 "metadata": {
  "kernelspec": {
   "display_name": "Python 3",
   "language": "python",
   "name": "python3"
  },
  "language_info": {
   "codemirror_mode": {
    "name": "ipython",
    "version": 3
   },
   "file_extension": ".py",
   "mimetype": "text/x-python",
   "name": "python",
   "nbconvert_exporter": "python",
   "pygments_lexer": "ipython3",
   "version": "3.12.6"
  }
 },
 "nbformat": 4,
 "nbformat_minor": 5
}
