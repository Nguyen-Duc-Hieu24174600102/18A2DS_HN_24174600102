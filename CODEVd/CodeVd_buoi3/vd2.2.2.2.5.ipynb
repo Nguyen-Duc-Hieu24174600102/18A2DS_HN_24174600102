{
 "cells": [
  {
   "cell_type": "code",
   "execution_count": 3,
   "id": "b81660e1",
   "metadata": {},
   "outputs": [
    {
     "name": "stdout",
     "output_type": "stream",
     "text": [
      "Collecting requests\n",
      "  Downloading requests-2.32.5-py3-none-any.whl.metadata (4.9 kB)\n",
      "Collecting charset_normalizer<4,>=2 (from requests)\n",
      "  Downloading charset_normalizer-3.4.4-cp312-cp312-win_amd64.whl.metadata (38 kB)\n",
      "Collecting idna<4,>=2.5 (from requests)\n",
      "  Downloading idna-3.11-py3-none-any.whl.metadata (8.4 kB)\n",
      "Collecting urllib3<3,>=1.21.1 (from requests)\n",
      "  Downloading urllib3-2.5.0-py3-none-any.whl.metadata (6.5 kB)\n",
      "Collecting certifi>=2017.4.17 (from requests)\n",
      "  Downloading certifi-2025.10.5-py3-none-any.whl.metadata (2.5 kB)\n",
      "Downloading requests-2.32.5-py3-none-any.whl (64 kB)\n",
      "Downloading certifi-2025.10.5-py3-none-any.whl (163 kB)\n",
      "Downloading charset_normalizer-3.4.4-cp312-cp312-win_amd64.whl (107 kB)\n",
      "Downloading idna-3.11-py3-none-any.whl (71 kB)\n",
      "Downloading urllib3-2.5.0-py3-none-any.whl (129 kB)\n",
      "Installing collected packages: urllib3, idna, charset_normalizer, certifi, requests\n",
      "Successfully installed certifi-2025.10.5 charset_normalizer-3.4.4 idna-3.11 requests-2.32.5 urllib3-2.5.0\n"
     ]
    },
    {
     "name": "stderr",
     "output_type": "stream",
     "text": [
      "\n",
      "[notice] A new release of pip is available: 24.2 -> 25.2\n",
      "[notice] To update, run: python.exe -m pip install --upgrade pip\n"
     ]
    }
   ],
   "source": [
    "!pip3 install requests"
   ]
  },
  {
   "cell_type": "code",
   "execution_count": 2,
   "id": "29de7115",
   "metadata": {},
   "outputs": [
    {
     "name": "stdout",
     "output_type": "stream",
     "text": [
      "{'colour': ['red', 'yellow']}\n",
      "<class 'dict'>\n",
      "<class 'str'>\n"
     ]
    }
   ],
   "source": [
    "import json\n",
    "# Import lớp JSONDecoder từ module json.decoder\n",
    "from json.decoder import JSONDecoder\n",
    "\n",
    "# Chuỗi JSON chứa dữ liệu màu sắc\n",
    "colour_string = '{ \"colour\": [\"red\", \"yellow\"] }'\n",
    "\n",
    "# Sử dụng JSONDecoder để mã giải (decode) chuỗi JSON thành đối tượng Python.\n",
    "# Có thể dùng trực tiếp json.loads() nhưng ở đây minh họa dùng JSONDecoder cho tường minh.\n",
    "decoder = JSONDecoder()                    # Tạo một đối tượng JSONDecoder\n",
    "decoded_object = decoder.decode(colour_string)  # Giải mã chuỗi JSON\n",
    "\n",
    "# In đối tượng Python và kiểu dữ liệu của đối tượng đó ra màn hình\n",
    "print(decoded_object)\n",
    "print(type(decoded_object))\n",
    "\n",
    "# Kiểm tra kiểu dữ liệu ban đầu của chuỗi\n",
    "print(type(colour_string))\n"
   ]
  },
  {
   "cell_type": "code",
   "execution_count": 1,
   "id": "30f4981d",
   "metadata": {},
   "outputs": [
    {
     "name": "stdout",
     "output_type": "stream",
     "text": [
      "{\"colour\": [\"red\", \"yellow\", \"green\"]}\n",
      "<class 'str'>\n"
     ]
    }
   ],
   "source": [
    "# Import lớp JSONEncoder từ module json.encoder\n",
    "from json.encoder import JSONEncoder\n",
    "# Định nghĩa từ điển colour_dict chứa một danh sách các màu.\n",
    "colour_dict = { \"colour\": [\"red\", \"yellow\", \"green\" ]}\n",
    "# Sử dụng phương thức encode() của JSONEncoder để mã hóa từ điển colour_dict\n",
    "# thành chuỗi JSON.\n",
    "json_string=JSONEncoder().encode(colour_dict)\n",
    "#in chuỗi json_string được mã hóa ra màn hình.\n",
    "print(json_string)\n",
    "#in ra kiểu của chuỗi json_string\n",
    "print(type(json_string))"
   ]
  }
 ],
 "metadata": {
  "kernelspec": {
   "display_name": "Python 3",
   "language": "python",
   "name": "python3"
  },
  "language_info": {
   "codemirror_mode": {
    "name": "ipython",
    "version": 3
   },
   "file_extension": ".py",
   "mimetype": "text/x-python",
   "name": "python",
   "nbconvert_exporter": "python",
   "pygments_lexer": "ipython3",
   "version": "3.12.6"
  }
 },
 "nbformat": 4,
 "nbformat_minor": 5
}
