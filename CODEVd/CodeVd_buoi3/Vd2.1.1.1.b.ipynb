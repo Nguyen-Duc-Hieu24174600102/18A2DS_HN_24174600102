{
 "cells": [
  {
   "cell_type": "code",
   "execution_count": 3,
   "id": "032a49e2",
   "metadata": {},
   "outputs": [],
   "source": [
    "data = {\n",
    "    \"lop\": \"K18A4\",\n",
    "    \"mon_hoc\": \"Python nâng cao\",\n",
    "    \"sinh_vien\": [\n",
    "        {\"ho_ten\": \"Nguyen Van A\", \"nam_sinh\": 2004, \"diem_tb\": 8.2},\n",
    "        {\"ho_ten\": \"Tran Van B\", \"nam_sinh\": 2003, \"diem_tb\": 7.6}\n",
    "    ],\n",
    "    \"giang_vien\": {\"ten\": \"CĐ\", \"email\": \"cd@tcdt.edu\"},\n",
    "    \"dang_mo\": True,      # boolean Python khác với JSON viết true/false\n",
    "    \"ghi_chu\": None       # None trong Python tương ứng null trong JSON\n",
    "}\n",
    "\n"
   ]
  }
 ],
 "metadata": {
  "kernelspec": {
   "display_name": "Python 3",
   "language": "python",
   "name": "python3"
  },
  "language_info": {
   "codemirror_mode": {
    "name": "ipython",
    "version": 3
   },
   "file_extension": ".py",
   "mimetype": "text/x-python",
   "name": "python",
   "nbconvert_exporter": "python",
   "pygments_lexer": "ipython3",
   "version": "3.12.6"
  }
 },
 "nbformat": 4,
 "nbformat_minor": 5
}
