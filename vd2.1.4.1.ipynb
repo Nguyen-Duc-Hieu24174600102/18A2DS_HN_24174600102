{
 "cells": [
  {
   "cell_type": "code",
   "execution_count": 3,
   "id": "1500328a",
   "metadata": {},
   "outputs": [
    {
     "name": "stdout",
     "output_type": "stream",
     "text": [
      "Họ tên: Nguyễn Văn A\n",
      "Kỹ năng đầu tiên: SQL\n",
      "Thành phố: Hà Nội\n",
      "✅ Đã thêm kỹ năng mới và ghi vào file 'updated.xml'\n"
     ]
    }
   ],
   "source": [
    "import xml.etree.ElementTree as ET  # Bước 1\n",
    "\n",
    "# Đọc và phân tích file XML\n",
    "tree = ET.parse('employee.xml')     # Bước 2\n",
    "root = tree.getroot()\n",
    "\n",
    "# Lấy thông tin tên: ghép fname và lname\n",
    "fname = root.find('fname').text\n",
    "lname = root.find('lname').text\n",
    "print(\"Họ tên:\", lname, fname)\n",
    "\n",
    "# Lấy phần tử đầu tiên có thẻ <expertise>\n",
    "expertise = root.find('expertise')  # Bước 4\n",
    "print(\"Kỹ năng đầu tiên:\", expertise.attrib['name'])\n",
    "\n",
    "# Lấy nội dung thẻ <city>\n",
    "city = root.find('city')            # Bước 5\n",
    "print(\"Thành phố:\", city.text)\n",
    "\n",
    "# Tạo phần tử <expertise> mới và thêm vào XML\n",
    "new_expertise = ET.Element('expertise')\n",
    "new_expertise.attrib['name'] = 'XML'  # Bước 6\n",
    "root.append(new_expertise)\n",
    "\n",
    "# Ghi lại file XML mới\n",
    "tree.write('updated.xml', encoding=\"utf-8\", xml_declaration=True)\n",
    "print(\"✅ Đã thêm kỹ năng mới và ghi vào file 'updated.xml'\")"
   ]
  }
 ],
 "metadata": {
  "kernelspec": {
   "display_name": "Python 3",
   "language": "python",
   "name": "python3"
  },
  "language_info": {
   "codemirror_mode": {
    "name": "ipython",
    "version": 3
   },
   "file_extension": ".py",
   "mimetype": "text/x-python",
   "name": "python",
   "nbconvert_exporter": "python",
   "pygments_lexer": "ipython3",
   "version": "3.12.6"
  }
 },
 "nbformat": 4,
 "nbformat_minor": 5
}
